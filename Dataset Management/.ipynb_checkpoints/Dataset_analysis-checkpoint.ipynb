{
 "cells": [
  {
   "cell_type": "markdown",
   "metadata": {},
   "source": [
    "# Aquisition"
   ]
  },
  {
   "cell_type": "code",
   "execution_count": 3,
   "metadata": {},
   "outputs": [],
   "source": [
    "import pandas as pd\n",
    "import matplotlib.pyplot as plt\n",
    "import numpy as np\n",
    "import seaborn as sns"
   ]
  },
  {
   "cell_type": "code",
   "execution_count": 2,
   "metadata": {},
   "outputs": [],
   "source": [
    "train = pd.read_csv('train_labels.csv', sep =',')\n",
    "test = pd.read_csv('test_labels.csv', sep =',')"
   ]
  },
  {
   "cell_type": "code",
   "execution_count": 3,
   "metadata": {},
   "outputs": [
    {
     "data": {
      "text/html": [
       "<div>\n",
       "<style scoped>\n",
       "    .dataframe tbody tr th:only-of-type {\n",
       "        vertical-align: middle;\n",
       "    }\n",
       "\n",
       "    .dataframe tbody tr th {\n",
       "        vertical-align: top;\n",
       "    }\n",
       "\n",
       "    .dataframe thead th {\n",
       "        text-align: right;\n",
       "    }\n",
       "</style>\n",
       "<table border=\"1\" class=\"dataframe\">\n",
       "  <thead>\n",
       "    <tr style=\"text-align: right;\">\n",
       "      <th></th>\n",
       "      <th>filename</th>\n",
       "      <th>width</th>\n",
       "      <th>height</th>\n",
       "      <th>class</th>\n",
       "      <th>xmin</th>\n",
       "      <th>ymin</th>\n",
       "      <th>xmax</th>\n",
       "      <th>ymax</th>\n",
       "    </tr>\n",
       "  </thead>\n",
       "  <tbody>\n",
       "    <tr>\n",
       "      <th>0</th>\n",
       "      <td>R0010724-11.png</td>\n",
       "      <td>1792</td>\n",
       "      <td>1344</td>\n",
       "      <td>socket</td>\n",
       "      <td>604</td>\n",
       "      <td>188</td>\n",
       "      <td>775</td>\n",
       "      <td>371</td>\n",
       "    </tr>\n",
       "    <tr>\n",
       "      <th>1</th>\n",
       "      <td>R0010729-11.png</td>\n",
       "      <td>1792</td>\n",
       "      <td>1344</td>\n",
       "      <td>double socket</td>\n",
       "      <td>907</td>\n",
       "      <td>217</td>\n",
       "      <td>1102</td>\n",
       "      <td>351</td>\n",
       "    </tr>\n",
       "    <tr>\n",
       "      <th>2</th>\n",
       "      <td>R0010729-11.png</td>\n",
       "      <td>1792</td>\n",
       "      <td>1344</td>\n",
       "      <td>double socket</td>\n",
       "      <td>652</td>\n",
       "      <td>234</td>\n",
       "      <td>873</td>\n",
       "      <td>356</td>\n",
       "    </tr>\n",
       "    <tr>\n",
       "      <th>3</th>\n",
       "      <td>R0010732-11.png</td>\n",
       "      <td>1792</td>\n",
       "      <td>1344</td>\n",
       "      <td>double socket</td>\n",
       "      <td>409</td>\n",
       "      <td>522</td>\n",
       "      <td>671</td>\n",
       "      <td>667</td>\n",
       "    </tr>\n",
       "    <tr>\n",
       "      <th>4</th>\n",
       "      <td>R0010732-11.png</td>\n",
       "      <td>1792</td>\n",
       "      <td>1344</td>\n",
       "      <td>double socket</td>\n",
       "      <td>705</td>\n",
       "      <td>568</td>\n",
       "      <td>1003</td>\n",
       "      <td>674</td>\n",
       "    </tr>\n",
       "  </tbody>\n",
       "</table>\n",
       "</div>"
      ],
      "text/plain": [
       "          filename  width  height          class  xmin  ymin  xmax  ymax\n",
       "0  R0010724-11.png   1792    1344         socket   604   188   775   371\n",
       "1  R0010729-11.png   1792    1344  double socket   907   217  1102   351\n",
       "2  R0010729-11.png   1792    1344  double socket   652   234   873   356\n",
       "3  R0010732-11.png   1792    1344  double socket   409   522   671   667\n",
       "4  R0010732-11.png   1792    1344  double socket   705   568  1003   674"
      ]
     },
     "execution_count": 3,
     "metadata": {},
     "output_type": "execute_result"
    }
   ],
   "source": [
    "test.head()"
   ]
  },
  {
   "cell_type": "code",
   "execution_count": 4,
   "metadata": {},
   "outputs": [
    {
     "data": {
      "text/plain": [
       "249"
      ]
     },
     "execution_count": 4,
     "metadata": {},
     "output_type": "execute_result"
    }
   ],
   "source": [
    "#Determine number of raw images that contributed tiles tiles in this dataset\n",
    "lit = train['filename'].tolist()\n",
    "a = test['filename'].tolist()\n",
    "lit = lit + a\n",
    "\n",
    "new_lit = []\n",
    "for i in lit:\n",
    "    new_lit.append(i[:-7])\n",
    "\n",
    "    \n",
    "def unique(list1): \n",
    "    list_set = set(list1) \n",
    "    unique_list = (list(list_set)) \n",
    "    return(unique_list) \n",
    "        \n",
    "len(unique(new_lit))"
   ]
  },
  {
   "cell_type": "markdown",
   "metadata": {},
   "source": [
    "# Analysis"
   ]
  },
  {
   "cell_type": "markdown",
   "metadata": {},
   "source": [
    "### Sizes of objects of different classes"
   ]
  },
  {
   "cell_type": "code",
   "execution_count": 5,
   "metadata": {},
   "outputs": [],
   "source": [
    "def addAreaColum(df):\n",
    "    df['size']=(df['ymax']-df['ymin'])*(df['xmax']-df['xmin'])\n",
    "    return df"
   ]
  },
  {
   "cell_type": "code",
   "execution_count": 6,
   "metadata": {},
   "outputs": [
    {
     "data": {
      "text/html": [
       "<div>\n",
       "<style scoped>\n",
       "    .dataframe tbody tr th:only-of-type {\n",
       "        vertical-align: middle;\n",
       "    }\n",
       "\n",
       "    .dataframe tbody tr th {\n",
       "        vertical-align: top;\n",
       "    }\n",
       "\n",
       "    .dataframe thead th {\n",
       "        text-align: right;\n",
       "    }\n",
       "</style>\n",
       "<table border=\"1\" class=\"dataframe\">\n",
       "  <thead>\n",
       "    <tr style=\"text-align: right;\">\n",
       "      <th></th>\n",
       "      <th>width</th>\n",
       "      <th>height</th>\n",
       "      <th>xmin</th>\n",
       "      <th>ymin</th>\n",
       "      <th>xmax</th>\n",
       "      <th>ymax</th>\n",
       "      <th>size</th>\n",
       "    </tr>\n",
       "  </thead>\n",
       "  <tbody>\n",
       "    <tr>\n",
       "      <th>count</th>\n",
       "      <td>345.0</td>\n",
       "      <td>345.0</td>\n",
       "      <td>345.000000</td>\n",
       "      <td>345.000000</td>\n",
       "      <td>345.000000</td>\n",
       "      <td>345.000000</td>\n",
       "      <td>345.000000</td>\n",
       "    </tr>\n",
       "    <tr>\n",
       "      <th>mean</th>\n",
       "      <td>1792.0</td>\n",
       "      <td>1344.0</td>\n",
       "      <td>735.472464</td>\n",
       "      <td>333.084058</td>\n",
       "      <td>998.005797</td>\n",
       "      <td>512.985507</td>\n",
       "      <td>70304.852174</td>\n",
       "    </tr>\n",
       "    <tr>\n",
       "      <th>std</th>\n",
       "      <td>0.0</td>\n",
       "      <td>0.0</td>\n",
       "      <td>373.961655</td>\n",
       "      <td>270.406609</td>\n",
       "      <td>382.022814</td>\n",
       "      <td>264.648532</td>\n",
       "      <td>122048.391244</td>\n",
       "    </tr>\n",
       "    <tr>\n",
       "      <th>min</th>\n",
       "      <td>1792.0</td>\n",
       "      <td>1344.0</td>\n",
       "      <td>1.000000</td>\n",
       "      <td>1.000000</td>\n",
       "      <td>44.000000</td>\n",
       "      <td>54.000000</td>\n",
       "      <td>702.000000</td>\n",
       "    </tr>\n",
       "    <tr>\n",
       "      <th>25%</th>\n",
       "      <td>1792.0</td>\n",
       "      <td>1344.0</td>\n",
       "      <td>524.000000</td>\n",
       "      <td>140.000000</td>\n",
       "      <td>819.000000</td>\n",
       "      <td>333.000000</td>\n",
       "      <td>10990.000000</td>\n",
       "    </tr>\n",
       "    <tr>\n",
       "      <th>50%</th>\n",
       "      <td>1792.0</td>\n",
       "      <td>1344.0</td>\n",
       "      <td>750.000000</td>\n",
       "      <td>242.000000</td>\n",
       "      <td>995.000000</td>\n",
       "      <td>460.000000</td>\n",
       "      <td>25254.000000</td>\n",
       "    </tr>\n",
       "    <tr>\n",
       "      <th>75%</th>\n",
       "      <td>1792.0</td>\n",
       "      <td>1344.0</td>\n",
       "      <td>895.000000</td>\n",
       "      <td>509.000000</td>\n",
       "      <td>1184.000000</td>\n",
       "      <td>680.000000</td>\n",
       "      <td>52850.000000</td>\n",
       "    </tr>\n",
       "    <tr>\n",
       "      <th>max</th>\n",
       "      <td>1792.0</td>\n",
       "      <td>1344.0</td>\n",
       "      <td>1712.000000</td>\n",
       "      <td>1262.000000</td>\n",
       "      <td>1792.000000</td>\n",
       "      <td>1344.000000</td>\n",
       "      <td>804138.000000</td>\n",
       "    </tr>\n",
       "  </tbody>\n",
       "</table>\n",
       "</div>"
      ],
      "text/plain": [
       "        width  height         xmin         ymin         xmax         ymax  \\\n",
       "count   345.0   345.0   345.000000   345.000000   345.000000   345.000000   \n",
       "mean   1792.0  1344.0   735.472464   333.084058   998.005797   512.985507   \n",
       "std       0.0     0.0   373.961655   270.406609   382.022814   264.648532   \n",
       "min    1792.0  1344.0     1.000000     1.000000    44.000000    54.000000   \n",
       "25%    1792.0  1344.0   524.000000   140.000000   819.000000   333.000000   \n",
       "50%    1792.0  1344.0   750.000000   242.000000   995.000000   460.000000   \n",
       "75%    1792.0  1344.0   895.000000   509.000000  1184.000000   680.000000   \n",
       "max    1792.0  1344.0  1712.000000  1262.000000  1792.000000  1344.000000   \n",
       "\n",
       "                size  \n",
       "count     345.000000  \n",
       "mean    70304.852174  \n",
       "std    122048.391244  \n",
       "min       702.000000  \n",
       "25%     10990.000000  \n",
       "50%     25254.000000  \n",
       "75%     52850.000000  \n",
       "max    804138.000000  "
      ]
     },
     "execution_count": 6,
     "metadata": {},
     "output_type": "execute_result"
    }
   ],
   "source": [
    "train_df = addAreaColum(train)\n",
    "test_df = addAreaColum(test)\n",
    "# train_df = new_df[new_df['class'] == 'double socket'] if you want to analyse a class\n",
    "# train_df.size"
   ]
  },
  {
   "cell_type": "code",
   "execution_count": 16,
   "metadata": {},
   "outputs": [
    {
     "data": {
      "text/plain": [
       "width      1792.000000\n",
       "height     1344.000000\n",
       "xmin        834.000000\n",
       "ymin        370.666667\n",
       "xmax       1113.000000\n",
       "ymax        600.333333\n",
       "size      42917.333333\n",
       "Name: 0.6666666666666666, dtype: float64"
      ]
     },
     "execution_count": 16,
     "metadata": {},
     "output_type": "execute_result"
    }
   ],
   "source": [
    "dataset_df = train_df.append(test_df)\n",
    "#determine the upper third, lower third and centre tertiles\n",
    "dataset_df.quantile(0.6666666666666666666666)"
   ]
  },
  {
   "cell_type": "code",
   "execution_count": 13,
   "metadata": {},
   "outputs": [
    {
     "data": {
      "image/png": "[encoded data removed]",
      "text/plain": [
       "<Figure size 576x432 with 1 Axes>"
      ]
     },
     "metadata": {
      "needs_background": "light"
     },
     "output_type": "display_data"
    }
   ],
   "source": [
    "dist = dataset_df['size'].tolist()\n",
    "fig, ax = plt.subplots(figsize=(8, 6))\n",
    "plt.ylabel('Mean Area')\n",
    "ax = sns.distplot(dist, ax = ax)"
   ]
  },
  {
   "cell_type": "markdown",
   "metadata": {},
   "source": [
    "### Distribution piechart of objects in dataset"
   ]
  },
  {
   "cell_type": "code",
   "execution_count": 7,
   "metadata": {},
   "outputs": [],
   "source": [
    "def pltDistribution(dflist):\n",
    "    labels = 'Socket', 'Double Socket', 'Radiator'\n",
    "    s = 0\n",
    "    ds = 0\n",
    "    r = 0\n",
    "    \n",
    "    for z in dflist:\n",
    "        for i in z['class']:\n",
    "            if i == 'socket':\n",
    "                s = s+1\n",
    "            elif i == 'double socket':\n",
    "                ds = ds+1\n",
    "            else:\n",
    "                r = r+1\n",
    "    count = [s, ds, r]\n",
    "    print(ds+s+r)\n",
    "    \n",
    "    fig, ax = plt.subplots()\n",
    "    ax.pie(count, labels=labels, autopct='%1.1f%%',\n",
    "            shadow=True, startangle=90)\n",
    "    ax.axis('equal')\n",
    "\n",
    "#     plt.show()\n",
    "    plt.savefig('Fig24.png')"
   ]
  },
  {
   "cell_type": "code",
   "execution_count": 8,
   "metadata": {},
   "outputs": [],
   "source": [
    "def pltDistribution2(df):\n",
    "    labels = 'Socket', 'Double Socket', 'Radiator'\n",
    "    s = 0\n",
    "    ds = 0\n",
    "    r = 0\n",
    "    \n",
    "    for i in df['class']:\n",
    "        if i == 'socket':\n",
    "            s = s+1\n",
    "        elif i == 'double socket':\n",
    "            ds = ds+1\n",
    "        else:\n",
    "            r = r+1\n",
    "    count = [s, ds, r]\n",
    "    print(r)\n",
    "    \n",
    "    fig, ax = plt.subplots()\n",
    "    ax.pie(count, labels=labels, autopct='%1.1f%%',\n",
    "            shadow=True, startangle=90)\n",
    "    ax.axis('equal')\n",
    "\n",
    "#     plt.show()\n",
    "    plt.savefig('Fig24.png')"
   ]
  },
  {
   "cell_type": "code",
   "execution_count": 9,
   "metadata": {},
   "outputs": [
    {
     "name": "stdout",
     "output_type": "stream",
     "text": [
      "438\n"
     ]
    },
    {
     "data": {
      "image/png": "[encoded data removed]",
      "text/plain": [
       "<Figure size 432x288 with 1 Axes>"
      ]
     },
     "metadata": {},
     "output_type": "display_data"
    }
   ],
   "source": [
    "input = [train, test]\n",
    "pltDistribution(input)\n",
    "# pltDistribution2(train)"
   ]
  },
  {
   "cell_type": "markdown",
   "metadata": {},
   "source": [
    "### Bar chart of mean area of each class"
   ]
  },
  {
   "cell_type": "code",
   "execution_count": 36,
   "metadata": {},
   "outputs": [],
   "source": [
    "def pltMeanSize(dflist):\n",
    "    sizes = [0,0,0,0]\n",
    "    count = [0,0,0,0]\n",
    "    classes = ['Socket', 'Double Socket', 'Radiator']\n",
    "    \n",
    "    for z in dflist:\n",
    "        for index, row in z.iterrows(): #itterows\n",
    "            if row['class'] == 'socket':\n",
    "                sizes[0] = sizes[0] + row['size']\n",
    "                count[0] = count[0] + 1\n",
    "            if row['class'] == 'double socket':\n",
    "                sizes[1] = sizes[1] + row['size']\n",
    "                count[1] = count[1] + 1\n",
    "            if row['class'] == 'radiator':\n",
    "                sizes[3] = sizes[3] + row['size']\n",
    "                count[3] = count[3] + 1\n",
    "                \n",
    "                \n",
    "    arealist = [sizes[0]/count[0], sizes[1]/count[1], sizes[3]/count[3]]   \n",
    "    print(count)\n",
    "    fig, ax = plt.subplots()\n",
    "    ax.bar(classes, arealist)\n",
    "    plt.ylabel('Mean Area')\n",
    "#     plt.show()\n",
    "    plt.savefig('Fig37.png')"
   ]
  },
  {
   "cell_type": "code",
   "execution_count": 24,
   "metadata": {},
   "outputs": [
    {
     "name": "stdout",
     "output_type": "stream",
     "text": [
      "[20, 236, 0, 33]\n"
     ]
    },
    {
     "data": {
      "image/png": "[encoded data removed]",
      "text/plain": [
       "<Figure size 432x288 with 1 Axes>"
      ]
     },
     "metadata": {
      "needs_background": "light"
     },
     "output_type": "display_data"
    }
   ],
   "source": [
    "input3 = [train_df, test_df]\n",
    "pltMeanSize(input3)"
   ]
  },
  {
   "cell_type": "code",
   "execution_count": null,
   "metadata": {},
   "outputs": [],
   "source": []
  }
 ],
 "metadata": {
  "kernelspec": {
   "display_name": "Python 3",
   "language": "python",
   "name": "python3"
  },
  "language_info": {
   "codemirror_mode": {
    "name": "ipython",
    "version": 3
   },
   "file_extension": ".py",
   "mimetype": "text/x-python",
   "name": "python",
   "nbconvert_exporter": "python",
   "pygments_lexer": "ipython3",
   "version": "3.7.3"
  }
 },
 "nbformat": 4,
 "nbformat_minor": 2
}
