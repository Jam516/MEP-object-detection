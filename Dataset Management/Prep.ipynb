{
 "cells": [
  {
   "cell_type": "markdown",
   "metadata": {},
   "source": [
    "# Setup"
   ]
  },
  {
   "cell_type": "code",
   "execution_count": 19,
   "metadata": {},
   "outputs": [],
   "source": [
    "import pandas as pd\n",
    "import matplotlib.pyplot as plt\n",
    "import numpy as np\n",
    "from shutil import copyfile\n",
    "import os.path\n",
    "from random import randint"
   ]
  },
  {
   "cell_type": "markdown",
   "metadata": {},
   "source": [
    "Import csv label data of all images"
   ]
  },
  {
   "cell_type": "code",
   "execution_count": 20,
   "metadata": {},
   "outputs": [],
   "source": [
    "labels = pd.read_csv('data/labels.csv', sep =',')"
   ]
  },
  {
   "cell_type": "code",
   "execution_count": 21,
   "metadata": {},
   "outputs": [
    {
     "data": {
      "text/html": [
       "<div>\n",
       "<style scoped>\n",
       "    .dataframe tbody tr th:only-of-type {\n",
       "        vertical-align: middle;\n",
       "    }\n",
       "\n",
       "    .dataframe tbody tr th {\n",
       "        vertical-align: top;\n",
       "    }\n",
       "\n",
       "    .dataframe thead th {\n",
       "        text-align: right;\n",
       "    }\n",
       "</style>\n",
       "<table border=\"1\" class=\"dataframe\">\n",
       "  <thead>\n",
       "    <tr style=\"text-align: right;\">\n",
       "      <th></th>\n",
       "      <th>filename</th>\n",
       "      <th>width</th>\n",
       "      <th>height</th>\n",
       "      <th>class</th>\n",
       "      <th>xmin</th>\n",
       "      <th>ymin</th>\n",
       "      <th>xmax</th>\n",
       "      <th>ymax</th>\n",
       "    </tr>\n",
       "  </thead>\n",
       "  <tbody>\n",
       "    <tr>\n",
       "      <th>0</th>\n",
       "      <td>R0010719-21.png</td>\n",
       "      <td>1792</td>\n",
       "      <td>1344</td>\n",
       "      <td>double socket</td>\n",
       "      <td>495</td>\n",
       "      <td>1</td>\n",
       "      <td>607</td>\n",
       "      <td>67</td>\n",
       "    </tr>\n",
       "    <tr>\n",
       "      <th>1</th>\n",
       "      <td>R0010720-11.png</td>\n",
       "      <td>1792</td>\n",
       "      <td>1344</td>\n",
       "      <td>double socket</td>\n",
       "      <td>570</td>\n",
       "      <td>116</td>\n",
       "      <td>954</td>\n",
       "      <td>334</td>\n",
       "    </tr>\n",
       "    <tr>\n",
       "      <th>2</th>\n",
       "      <td>R0010720-11.png</td>\n",
       "      <td>1792</td>\n",
       "      <td>1344</td>\n",
       "      <td>double socket</td>\n",
       "      <td>1039</td>\n",
       "      <td>87</td>\n",
       "      <td>1342</td>\n",
       "      <td>310</td>\n",
       "    </tr>\n",
       "    <tr>\n",
       "      <th>3</th>\n",
       "      <td>R0010721-11.png</td>\n",
       "      <td>1792</td>\n",
       "      <td>1344</td>\n",
       "      <td>double socket</td>\n",
       "      <td>441</td>\n",
       "      <td>318</td>\n",
       "      <td>818</td>\n",
       "      <td>553</td>\n",
       "    </tr>\n",
       "    <tr>\n",
       "      <th>4</th>\n",
       "      <td>R0010721-11.png</td>\n",
       "      <td>1792</td>\n",
       "      <td>1344</td>\n",
       "      <td>double socket</td>\n",
       "      <td>937</td>\n",
       "      <td>350</td>\n",
       "      <td>1322</td>\n",
       "      <td>558</td>\n",
       "    </tr>\n",
       "  </tbody>\n",
       "</table>\n",
       "</div>"
      ],
      "text/plain": [
       "          filename  width  height          class  xmin  ymin  xmax  ymax\n",
       "0  R0010719-21.png   1792    1344  double socket   495     1   607    67\n",
       "1  R0010720-11.png   1792    1344  double socket   570   116   954   334\n",
       "2  R0010720-11.png   1792    1344  double socket  1039    87  1342   310\n",
       "3  R0010721-11.png   1792    1344  double socket   441   318   818   553\n",
       "4  R0010721-11.png   1792    1344  double socket   937   350  1322   558"
      ]
     },
     "execution_count": 21,
     "metadata": {},
     "output_type": "execute_result"
    }
   ],
   "source": [
    "labels.head()"
   ]
  },
  {
   "cell_type": "markdown",
   "metadata": {},
   "source": [
    "# Copy labelled data"
   ]
  },
  {
   "cell_type": "markdown",
   "metadata": {},
   "source": [
    "Copy images from unfiltered set into final set if they contain a label and therefore show up in the label csv"
   ]
  },
  {
   "cell_type": "code",
   "execution_count": 17,
   "metadata": {},
   "outputs": [],
   "source": [
    "def cpy_images(df):\n",
    "    for index, row in df.iterrows(): \n",
    "        path = r'images' + '\\\\' + row['filename']\n",
    "        if os.path.isfile(path):\n",
    "            print('File already copied')\n",
    "        else:\n",
    "            copyfile(r'unfiltered' + '\\\\' + row['filename'], r'images' + '\\\\' + row['filename'])\n",
    "            copyfile(r'unfiltered' + '\\\\' + row['filename'][:-4] + '.xml', r'images'+ '\\\\' + row['filename'][:-4] + '.xml')"
   ]
  },
  {
   "cell_type": "code",
   "execution_count": 1,
   "metadata": {},
   "outputs": [],
   "source": [
    "cpy_images(labels)"
   ]
  },
  {
   "cell_type": "markdown",
   "metadata": {},
   "source": [
    "# Segment images"
   ]
  },
  {
   "cell_type": "markdown",
   "metadata": {},
   "source": [
    "Divide images into train and test sets at a 20%/80% split"
   ]
  },
  {
   "cell_type": "code",
   "execution_count": 33,
   "metadata": {},
   "outputs": [],
   "source": [
    "def segment(lst):\n",
    "    for i in lst: \n",
    "        if randint(0, 10) < 3:\n",
    "            path = r'images' + '\\\\' + 'test' + '\\\\' + i\n",
    "            if os.path.isfile(path):\n",
    "                print('File already copied')\n",
    "            else:\n",
    "                copyfile(r'images' + '\\\\' + i, r'images' + '\\\\' + 'test' + '\\\\' + i)\n",
    "                copyfile(r'images' + '\\\\' + i[:-4] + '.xml', r'images' + '\\\\' + 'test' + '\\\\' + i[:-4] + '.xml')\n",
    "        else: \n",
    "            path = r'images' + '\\\\' + 'train' + '\\\\' + i\n",
    "            if os.path.isfile(path):\n",
    "                print('File already copied')\n",
    "            else:\n",
    "                copyfile(r'images' + '\\\\' + i, r'images' + '\\\\' + 'train' + '\\\\' + i)\n",
    "                copyfile(r'images' + '\\\\' + i[:-4] + '.xml', r'images' + '\\\\' + 'train' + '\\\\' + i[:-4] + '.xml')"
   ]
  },
  {
   "cell_type": "code",
   "execution_count": 34,
   "metadata": {},
   "outputs": [],
   "source": [
    "segment(labels.filename.unique())"
   ]
  },
  {
   "cell_type": "code",
   "execution_count": null,
   "metadata": {},
   "outputs": [],
   "source": []
  },
  {
   "cell_type": "code",
   "execution_count": null,
   "metadata": {},
   "outputs": [],
   "source": []
  }
 ],
 "metadata": {
  "kernelspec": {
   "display_name": "Python 3",
   "language": "python",
   "name": "python3"
  },
  "language_info": {
   "codemirror_mode": {
    "name": "ipython",
    "version": 3
   },
   "file_extension": ".py",
   "mimetype": "text/x-python",
   "name": "python",
   "nbconvert_exporter": "python",
   "pygments_lexer": "ipython3",
   "version": "3.7.3"
  }
 },
 "nbformat": 4,
 "nbformat_minor": 2
}
